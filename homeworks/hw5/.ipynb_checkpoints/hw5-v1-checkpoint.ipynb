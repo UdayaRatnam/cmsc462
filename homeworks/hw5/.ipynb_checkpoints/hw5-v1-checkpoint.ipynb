{
 "cells": [
  {
   "cell_type": "code",
   "execution_count": 1,
   "id": "4b9a36fb",
   "metadata": {},
   "outputs": [],
   "source": [
    "\"\"\"\n",
    "import pymongo\n",
    "import pandas as pd\n",
    "\n",
    "# Create a MongoClient instance\n",
    "client = pymongo.MongoClient()\n",
    "\n",
    "# Create a database named 'myDatabase'\n",
    "db = client['hw5']\n",
    "\n",
    "movies_file = pd.read_csv(\"movies.csv\").to_dict('index').values()\n",
    "tags = pd.read_csv(\"tags.csv\").to_dict('index').values()\n",
    "ratings = pd.read_csv(\"ratings.csv\").to_dict('index').values()\n",
    "\"\"\"\n",
    "from pymongo import MongoClient\n",
    "import pymongo\n",
    "import pandas as pd\n",
    "import re"
   ]
  },
  {
   "cell_type": "code",
   "execution_count": 2,
   "id": "f6fa8a15",
   "metadata": {},
   "outputs": [
    {
     "name": "stdout",
     "output_type": "stream",
     "text": [
      "{'_id': ObjectId('645a8673ac5be43b9afd03d5'), 'name': 'Demon Slayer: Mugen Train', 'genre': 'Action', 'rating': 4}\n",
      "{'_id': ObjectId('645a8673ac5be43b9afd03d6'), 'name': 'Jujutsu Kaisen 0', 'genre': 'Action', 'rating': 3}\n",
      "{'_id': ObjectId('645a8673ac5be43b9afd03d7'), 'name': 'Your Name', 'genre': 'Romance', 'rating': 5}\n",
      "{'_id': ObjectId('645a8673ac5be43b9afd03d8'), 'name': 'London Has Fallen', 'genre': 'Action', 'rating': 2}\n",
      "{'_id': ObjectId('645a8673ac5be43b9afd03d9'), 'name': 'Oceans 11', 'genre': 'Action', 'rating': 5}\n"
     ]
    }
   ],
   "source": [
    "# Create a collection named 'myMovies'\n",
    "myMovies = db['myMovies']\n",
    "\n",
    "# Define the movies to be inserted\n",
    "movies = [\n",
    "    {\"name\": \"Demon Slayer: Mugen Train\", \"genre\": \"Action\", \"rating\": 4},\n",
    "    {\"name\": \"Jujutsu Kaisen 0\", \"genre\": \"Action\", \"rating\": 3},\n",
    "    {\"name\": \"Your Name\", \"genre\": \"Romance\", \"rating\": 5},\n",
    "    {\"name\": \"London Has Fallen\", \"genre\": \"Action\", \"rating\": 2},\n",
    "    {\"name\": \"Oceans 11\", \"genre\": \"Action\", \"rating\": 5}\n",
    "]\n",
    "\n",
    "# Insert the movies into the 'myMovies' collection\n",
    "myMovies.insert_many(movies)\n",
    "\n",
    "# Print the inserted documents\n",
    "for movie in myMovies.find():\n",
    "    print(movie)"
   ]
  },
  {
   "cell_type": "code",
   "execution_count": 3,
   "id": "090589ae",
   "metadata": {},
   "outputs": [
    {
     "name": "stdout",
     "output_type": "stream",
     "text": [
      "All movies in the collection:\n",
      "{'_id': ObjectId('645a8673ac5be43b9afd03d5'), 'name': 'Demon Slayer: Mugen Train', 'genre': 'Action', 'rating': 4}\n",
      "{'_id': ObjectId('645a8673ac5be43b9afd03d6'), 'name': 'Jujutsu Kaisen 0', 'genre': 'Action', 'rating': 3}\n",
      "{'_id': ObjectId('645a8673ac5be43b9afd03d7'), 'name': 'Your Name', 'genre': 'Romance', 'rating': 5}\n",
      "{'_id': ObjectId('645a8673ac5be43b9afd03d8'), 'name': 'London Has Fallen', 'genre': 'Action', 'rating': 2}\n",
      "{'_id': ObjectId('645a8673ac5be43b9afd03d9'), 'name': 'Oceans 11', 'genre': 'Action', 'rating': 5}\n",
      "\n",
      "One movie by name 'Your Name':\n",
      "{'_id': ObjectId('645a8673ac5be43b9afd03d7'), 'name': 'Your Name', 'genre': 'Romance', 'rating': 5}\n",
      "\n",
      "Top 3 highest-rated movies:\n",
      "{'_id': ObjectId('645a8673ac5be43b9afd03d9'), 'name': 'Oceans 11', 'genre': 'Action', 'rating': 5}\n",
      "{'_id': ObjectId('645a8673ac5be43b9afd03d7'), 'name': 'Your Name', 'genre': 'Romance', 'rating': 5}\n",
      "{'_id': ObjectId('645a8673ac5be43b9afd03d5'), 'name': 'Demon Slayer: Mugen Train', 'genre': 'Action', 'rating': 4}\n"
     ]
    }
   ],
   "source": [
    "# Print all movies in the collection\n",
    "print(\"All movies in the collection:\")\n",
    "for movie in myMovies.find():\n",
    "    print(movie)\n",
    "\n",
    "# Find one movie by name\n",
    "movie_name = \"Your Name\"\n",
    "print(f\"\\nOne movie by name '{movie_name}':\")\n",
    "result = myMovies.find_one({\"name\": movie_name})\n",
    "if result:\n",
    "    print(result)\n",
    "else:\n",
    "    print(f\"No movie found with name '{movie_name}'\")\n",
    "\n",
    "# Find top 3 highest-rated movies\n",
    "print(\"\\nTop 3 highest-rated movies:\")\n",
    "for movie in myMovies.find().sort(\"rating\", pymongo.DESCENDING).limit(3):\n",
    "    print(movie)"
   ]
  },
  {
   "cell_type": "code",
   "execution_count": 4,
   "id": "1d3c4465",
   "metadata": {},
   "outputs": [
    {
     "name": "stdout",
     "output_type": "stream",
     "text": [
      "{'_id': ObjectId('645a8673ac5be43b9afd03d5'), 'name': 'Demon Slayer: Mugen Train', 'genre': 'Action', 'rating': 4, 'review': 'Awesome movie!'}\n",
      "{'_id': ObjectId('645a8673ac5be43b9afd03d6'), 'name': 'Jujutsu Kaisen 0', 'genre': 'Action', 'rating': 3}\n",
      "{'_id': ObjectId('645a8673ac5be43b9afd03d7'), 'name': 'Your Name', 'genre': 'Romance', 'rating': 5, 'review': 'Beautiful love story.'}\n",
      "{'_id': ObjectId('645a8673ac5be43b9afd03d8'), 'name': 'London Has Fallen', 'genre': 'Action', 'rating': 3}\n",
      "{'_id': ObjectId('645a8673ac5be43b9afd03d9'), 'name': 'Oceans 11', 'genre': 'Action', 'rating': 5}\n"
     ]
    }
   ],
   "source": [
    "# Add reviews to 2 of the movies\n",
    "myMovies.update_one({\"name\": \"Demon Slayer: Mugen Train\"}, {\"$set\": {\"review\": \"Awesome movie!\"}})\n",
    "myMovies.update_one({\"name\": \"Your Name\"}, {\"$set\": {\"review\": \"Beautiful love story.\"}})\n",
    "\n",
    "# Change the rating of one of the movies\n",
    "myMovies.update_one({\"name\": \"London Has Fallen\"}, {\"$set\": {\"rating\": 3}})\n",
    "\n",
    "# Print the updated documents\n",
    "for movie in myMovies.find():\n",
    "    print(movie)"
   ]
  },
  {
   "cell_type": "code",
   "execution_count": 5,
   "id": "bcd05899",
   "metadata": {},
   "outputs": [
    {
     "name": "stdout",
     "output_type": "stream",
     "text": [
      "Number of records in movies collection: 9742\n",
      "Number of records in ratings collection: 100836\n",
      "Number of records in tags collection: 3683\n"
     ]
    }
   ],
   "source": [
    "# Create collections for movies, ratings, and tags\n",
    "import csv\n",
    "\"\"\"\n",
    "movies_col = db['movies']\n",
    "ratings_col = db['ratings']\n",
    "tags_col = db['tags']\n",
    "\n",
    "# Read movies.csv file and insert records into movies collection\n",
    "with open('movies.csv', newline='', encoding='utf-8') as csvfile:\n",
    "    reader = csv.DictReader(csvfile)\n",
    "    for row in reader:\n",
    "        movies_col.insert_one(row)\n",
    "\n",
    "# Read ratings.csv file and insert records into ratings collection\n",
    "with open('ratings.csv', newline='', encoding='utf-8') as csvfile:\n",
    "    reader = csv.DictReader(csvfile)\n",
    "    for row in reader:\n",
    "        ratings_col.insert_one(row)\n",
    "\n",
    "# Read tags.csv file and insert records into tags collection\n",
    "with open('tags.csv', newline='', encoding='utf-8') as csvfile:\n",
    "    reader = csv.DictReader(csvfile)\n",
    "    for row in reader: \n",
    "        tags_col.insert_one(row)\n",
    "\n",
    "# Print the count of records in each collection\n",
    "print(f\"Number of records in movies collection: {movies_col.count_documents({})}\")\n",
    "print(f\"Number of records in ratings collection: {ratings_col.count_documents({})}\")\n",
    "print(f\"Number of records in tags collection: {tags_col.count_documents({})}\")\n",
    "\"\"\"\n",
    "# Create movies, tags, and ratings collections\n",
    "movies = db.movies\n",
    "tags = db.tags\n",
    "ratings = db.ratings\n",
    "\n",
    "# Read movies.csv and insert the records into the movies collection\n",
    "with open('movies.csv', 'r', encoding='utf8') as f:\n",
    "    reader = csv.DictReader(f)\n",
    "    for row in reader:\n",
    "        movie = {\n",
    "            'movieId': int(row['movieId']),\n",
    "            'title': row['title'],\n",
    "            'genres': row['genres'].split('|')\n",
    "        }\n",
    "        movies.insert_one(movie)\n",
    "\n",
    "# Read tags.csv and insert the records into the tags collection\n",
    "with open('tags.csv', 'r', encoding='utf8') as f:\n",
    "    reader = csv.DictReader(f)\n",
    "    for row in reader:\n",
    "        tag = {\n",
    "            'userId': int(row['userId']),\n",
    "            'movieId': int(row['movieId']),\n",
    "            'tag': row['tag'],\n",
    "            'timestamp': int(row['timestamp'])\n",
    "        }\n",
    "        tags.insert_one(tag)\n",
    "\n",
    "# Read ratings.csv and insert the records into the ratings collection\n",
    "with open('ratings.csv', 'r', encoding='utf8') as f:\n",
    "    reader = csv.DictReader(f)\n",
    "    for row in reader:\n",
    "        rating = {\n",
    "            'userId': int(row['userId']),\n",
    "            'movieId': int(row['movieId']),\n",
    "            'rating': float(row['rating']),\n",
    "            'timestamp': int(row['timestamp'])\n",
    "        }\n",
    "        ratings.insert_one(rating)\n",
    "# Print the count of records in each collection\n",
    "print(f\"Number of records in movies collection: {movies.count_documents({})}\")\n",
    "print(f\"Number of records in ratings collection: {ratings.count_documents({})}\")\n",
    "print(f\"Number of records in tags collection: {tags.count_documents({})}\")"
   ]
  },
  {
   "cell_type": "code",
   "execution_count": 11,
   "id": "bb3ff323",
   "metadata": {},
   "outputs": [
    {
     "name": "stdout",
     "output_type": "stream",
     "text": [
      "Number of movies per rating:\n",
      "0.5: 1370\n",
      "1.0: 2811\n",
      "1.5: 1791\n",
      "2.0: 7551\n",
      "2.5: 5550\n",
      "3.0: 20047\n",
      "3.5: 13136\n",
      "4.0: 26818\n",
      "4.5: 8551\n",
      "5.0: 13211\n"
     ]
    }
   ],
   "source": [
    "pipeline = [\n",
    "    {\n",
    "        \"$group\": {\n",
    "            \"_id\": \"$rating\",\n",
    "            \"count\": {\"$sum\": 1}\n",
    "        }\n",
    "    },\n",
    "    {\n",
    "        \"$sort\": {\"_id\": 1}\n",
    "    }\n",
    "]\n",
    "\n",
    "result = list(ratings.aggregate(pipeline))\n",
    "\n",
    "print(\"Number of movies per rating:\")\n",
    "for r in result:\n",
    "    print(f\"{r['_id']}: {r['count']}\")\n",
    " "
   ]
  },
  {
   "cell_type": "code",
   "execution_count": null,
   "id": "b3221aa0",
   "metadata": {},
   "outputs": [],
   "source": []
  },
  {
   "cell_type": "code",
   "execution_count": null,
   "id": "d9e377ff",
   "metadata": {},
   "outputs": [],
   "source": []
  }
 ],
 "metadata": {
  "kernelspec": {
   "display_name": "Python 3 (ipykernel)",
   "language": "python",
   "name": "python3"
  },
  "language_info": {
   "codemirror_mode": {
    "name": "ipython",
    "version": 3
   },
   "file_extension": ".py",
   "mimetype": "text/x-python",
   "name": "python",
   "nbconvert_exporter": "python",
   "pygments_lexer": "ipython3",
   "version": "3.9.13"
  }
 },
 "nbformat": 4,
 "nbformat_minor": 5
}
